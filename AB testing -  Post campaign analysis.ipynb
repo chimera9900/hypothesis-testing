{
 "cells": [
  {
   "cell_type": "markdown",
   "metadata": {},
   "source": [
    "### A/B testing"
   ]
  },
  {
   "cell_type": "code",
   "execution_count": 128,
   "metadata": {
    "collapsed": false
   },
   "outputs": [],
   "source": [
    "import numpy as np\n",
    "from numpy.random import permutation , choice\n",
    "np.set_printoptions(precision=4)"
   ]
  },
  {
   "cell_type": "code",
   "execution_count": 89,
   "metadata": {
    "collapsed": false
   },
   "outputs": [],
   "source": [
    "groupA = np.array( [1] * 18 + [0] * 182)\n",
    "groupB = np.array([1] * 27 + [0] * 173 )"
   ]
  },
  {
   "cell_type": "code",
   "execution_count": 96,
   "metadata": {
    "collapsed": false
   },
   "outputs": [],
   "source": [
    "def diff(permA, permB):\n",
    "    return np.mean(permB) - np.mean(permA)\n",
    "def perm_reps(groupA, groupB):\n",
    "    data = np.concatenate((groupA,groupB), axis=0)\n",
    "    perm_data = np.random.permutation(data)\n",
    "    return perm_data[:len(groupA)] , perm_data[len(groupA):]\n",
    "\n",
    "def AB_testing(groupA, groupB, perm_reps, n_draws):\n",
    "    perm_rep = np.empty(n_draws)\n",
    "    for i in range(n_draws):\n",
    "        permA, permB = perm_reps(groupA, groupB)\n",
    "        perm_rep[i] = diff(permA, permB)\n",
    "    return 'p_value is {}'.format(np.sum(perm_rep >= diff(groupA, groupB))/float(n_draws))"
   ]
  },
  {
   "cell_type": "code",
   "execution_count": 97,
   "metadata": {
    "collapsed": false
   },
   "outputs": [
    {
     "data": {
      "text/plain": [
       "'p_value is 0.1005'"
      ]
     },
     "execution_count": 97,
     "metadata": {},
     "output_type": "execute_result"
    }
   ],
   "source": [
    "AB_testing(groupA, groupB, perm_reps, 10000)"
   ]
  },
  {
   "cell_type": "markdown",
   "metadata": {},
   "source": [
    "### Boostrap hypothesis test for post compaign analysis (binary)"
   ]
  },
  {
   "cell_type": "code",
   "execution_count": 86,
   "metadata": {
    "collapsed": true
   },
   "outputs": [],
   "source": [
    "control = np.array( [1] * 18 + [0] * 182)\n",
    "treat = np.array([1] * 135 + [0] * 865 )"
   ]
  },
  {
   "cell_type": "code",
   "execution_count": 102,
   "metadata": {
    "collapsed": false
   },
   "outputs": [
    {
     "data": {
      "text/plain": [
       "0.0450"
      ]
     },
     "execution_count": 102,
     "metadata": {},
     "output_type": "execute_result"
    }
   ],
   "source": [
    "diff(control,treat)"
   ]
  },
  {
   "cell_type": "code",
   "execution_count": 111,
   "metadata": {
    "collapsed": false
   },
   "outputs": [],
   "source": [
    "def bs_reps(control,treat):\n",
    "    return np.random.choice(control, size=len(control), replace=True), np.random.choice(treat, size=len(treat), replace=True)"
   ]
  },
  {
   "cell_type": "code",
   "execution_count": 112,
   "metadata": {
    "collapsed": false
   },
   "outputs": [],
   "source": [
    "a, b = bs_reps(control, treat)"
   ]
  },
  {
   "cell_type": "code",
   "execution_count": 120,
   "metadata": {
    "collapsed": false
   },
   "outputs": [],
   "source": [
    "def post_compn(control, treat, bs_reps, diff, n_draws):\n",
    "    bs_rep = np.empty(n_draws)\n",
    "    for i in range(n_draws):\n",
    "        bsC, bsT = bs_reps(control,treat)\n",
    "        bs_rep[i] = diff(bsC, bsT)\n",
    "    return 'p-value is {}'.format(np.sum(bs_rep >= diff(control, treat))/float(n_draws))\n",
    "    \n",
    "    "
   ]
  },
  {
   "cell_type": "code",
   "execution_count": 121,
   "metadata": {
    "collapsed": false
   },
   "outputs": [
    {
     "data": {
      "text/plain": [
       "'p-value is 0.502'"
      ]
     },
     "execution_count": 121,
     "metadata": {},
     "output_type": "execute_result"
    }
   ],
   "source": [
    "post_compn(control, treat, bs_reps, diff, 10000)"
   ]
  },
  {
   "cell_type": "markdown",
   "metadata": {},
   "source": [
    "### Boostrap hypothesis test for post compaign analysis (continue number)"
   ]
  },
  {
   "cell_type": "code",
   "execution_count": 129,
   "metadata": {
    "collapsed": false
   },
   "outputs": [],
   "source": [
    "control = np.random.rand(200) * 100\n",
    "treat = np.random.rand(1000) * 100"
   ]
  },
  {
   "cell_type": "code",
   "execution_count": 132,
   "metadata": {
    "collapsed": false
   },
   "outputs": [
    {
     "data": {
      "text/plain": [
       "3.7297"
      ]
     },
     "execution_count": 132,
     "metadata": {},
     "output_type": "execute_result"
    }
   ],
   "source": [
    "diff(control,treat)"
   ]
  },
  {
   "cell_type": "code",
   "execution_count": 138,
   "metadata": {
    "collapsed": true
   },
   "outputs": [],
   "source": [
    "def data_shifted_mean(control, treat):\n",
    "    mean_concat = np.mean(np.concatenate((control,treat), axis=0))\n",
    "    C_shifted = control - np.mean(control) + mean_concat\n",
    "    T_shifted = treat - np.mean(treat) + mean_concat\n",
    "    return C_shifted, T_shifted"
   ]
  },
  {
   "cell_type": "code",
   "execution_count": 149,
   "metadata": {
    "collapsed": true
   },
   "outputs": [],
   "source": [
    "def bs_continue(control, treat, diff, data_shifted_mean, n_draws):\n",
    "    bs_cont = np.empty(n_draws)\n",
    "    C_shifted, T_shifted = data_shifted_mean(control, treat)\n",
    "    for i in range(n_draws):\n",
    "        C_shift_bs, T_shift_bs = bs_reps(C_shifted,T_shifted)\n",
    "        bs_cont[i] = diff(C_shift_bs, T_shift_bs)\n",
    "    return 'p-value is {}'.format(np.sum(bs_cont >= diff(control,treat))/float(n_draws))    \n",
    "        "
   ]
  },
  {
   "cell_type": "code",
   "execution_count": 150,
   "metadata": {
    "collapsed": false
   },
   "outputs": [
    {
     "data": {
      "text/plain": [
       "'p-value is 0.0455'"
      ]
     },
     "execution_count": 150,
     "metadata": {},
     "output_type": "execute_result"
    }
   ],
   "source": [
    "bs_continue(control,treat,diff, data_shifted_mean, 10000)"
   ]
  },
  {
   "cell_type": "code",
   "execution_count": null,
   "metadata": {
    "collapsed": true
   },
   "outputs": [],
   "source": []
  }
 ],
 "metadata": {
  "kernelspec": {
   "display_name": "Python 2",
   "language": "python",
   "name": "python2"
  },
  "language_info": {
   "codemirror_mode": {
    "name": "ipython",
    "version": 2
   },
   "file_extension": ".py",
   "mimetype": "text/x-python",
   "name": "python",
   "nbconvert_exporter": "python",
   "pygments_lexer": "ipython2",
   "version": "2.7.13"
  }
 },
 "nbformat": 4,
 "nbformat_minor": 2
}
